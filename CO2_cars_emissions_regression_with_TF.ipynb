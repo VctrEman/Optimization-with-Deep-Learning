{
  "nbformat": 4,
  "nbformat_minor": 0,
  "metadata": {
    "colab": {
      "name": "CO2 cars emissions regression with TF.ipynb",
      "provenance": [],
      "authorship_tag": "ABX9TyPbXzwyzsNKCaFPxj5Z/JZh",
      "include_colab_link": true
    },
    "kernelspec": {
      "name": "python3",
      "display_name": "Python 3"
    }
  },
  "cells": [
    {
      "cell_type": "markdown",
      "metadata": {
        "id": "view-in-github",
        "colab_type": "text"
      },
      "source": [
        "<a href=\"https://colab.research.google.com/github/VctrEman/Optimization-with-Deep-Learning/blob/main/CO2_cars_emissions_regression_with_TF.ipynb\" target=\"_parent\"><img src=\"https://colab.research.google.com/assets/colab-badge.svg\" alt=\"Open In Colab\"/></a>"
      ]
    },
    {
      "cell_type": "code",
      "metadata": {
        "id": "qX9sL0brhQTL",
        "colab": {
          "base_uri": "https://localhost:8080/"
        },
        "outputId": "f813f884-73e2-4e14-a653-40a4c75f38cf"
      },
      "source": [
        "from scipy import stats\n",
        "\n",
        "import matplotlib.pyplot as plt\n",
        "import pandas as pd\n",
        "import pylab as pl\n",
        "import numpy as np\n",
        "%matplotlib inline\n",
        "\n",
        "from sklearn import linear_model\n",
        "from sklearn.linear_model import LinearRegression as lr\n",
        "from sklearn.model_selection import train_test_split\n",
        "import seaborn as sns\n",
        "sns.set()\n",
        "\n",
        "!wget -O FuelConsumption.csv https://s3-api.us-geo.objectstorage.softlayer.net/cf-courses-data/CognitiveClass/ML0101ENv3/labs/FuelConsumptionCo2.csv"
      ],
      "execution_count": null,
      "outputs": [
        {
          "output_type": "stream",
          "text": [
            "--2020-12-28 12:42:45--  https://s3-api.us-geo.objectstorage.softlayer.net/cf-courses-data/CognitiveClass/ML0101ENv3/labs/FuelConsumptionCo2.csv\n",
            "Resolving s3-api.us-geo.objectstorage.softlayer.net (s3-api.us-geo.objectstorage.softlayer.net)... 67.228.254.196\n",
            "Connecting to s3-api.us-geo.objectstorage.softlayer.net (s3-api.us-geo.objectstorage.softlayer.net)|67.228.254.196|:443... connected.\n",
            "HTTP request sent, awaiting response... 200 OK\n",
            "Length: 72629 (71K) [text/csv]\n",
            "Saving to: ‘FuelConsumption.csv’\n",
            "\n",
            "FuelConsumption.csv 100%[===================>]  70.93K  --.-KB/s    in 0.05s   \n",
            "\n",
            "2020-12-28 12:42:46 (1.40 MB/s) - ‘FuelConsumption.csv’ saved [72629/72629]\n",
            "\n"
          ],
          "name": "stdout"
        }
      ]
    },
    {
      "cell_type": "markdown",
      "metadata": {
        "id": "kuRVncsqhRFW"
      },
      "source": [
        "Usar a técnica de split"
      ]
    },
    {
      "cell_type": "code",
      "metadata": {
        "id": "M6wnfOZyhT0N",
        "colab": {
          "base_uri": "https://localhost:8080/",
          "height": 278
        },
        "outputId": "99e551be-a9d2-4996-fb88-14521a80b5d1"
      },
      "source": [
        "data = pd.read_csv(\"FuelConsumption.csv\")\n",
        "# take a look at the dataset\n",
        "data.head()\n",
        "\n",
        "#posso aplicar a tecnica de visualização que aprendi no housing"
      ],
      "execution_count": null,
      "outputs": [
        {
          "output_type": "execute_result",
          "data": {
            "text/html": [
              "<div>\n",
              "<style scoped>\n",
              "    .dataframe tbody tr th:only-of-type {\n",
              "        vertical-align: middle;\n",
              "    }\n",
              "\n",
              "    .dataframe tbody tr th {\n",
              "        vertical-align: top;\n",
              "    }\n",
              "\n",
              "    .dataframe thead th {\n",
              "        text-align: right;\n",
              "    }\n",
              "</style>\n",
              "<table border=\"1\" class=\"dataframe\">\n",
              "  <thead>\n",
              "    <tr style=\"text-align: right;\">\n",
              "      <th></th>\n",
              "      <th>MODELYEAR</th>\n",
              "      <th>MAKE</th>\n",
              "      <th>MODEL</th>\n",
              "      <th>VEHICLECLASS</th>\n",
              "      <th>ENGINESIZE</th>\n",
              "      <th>CYLINDERS</th>\n",
              "      <th>TRANSMISSION</th>\n",
              "      <th>FUELTYPE</th>\n",
              "      <th>FUELCONSUMPTION_CITY</th>\n",
              "      <th>FUELCONSUMPTION_HWY</th>\n",
              "      <th>FUELCONSUMPTION_COMB</th>\n",
              "      <th>FUELCONSUMPTION_COMB_MPG</th>\n",
              "      <th>CO2EMISSIONS</th>\n",
              "    </tr>\n",
              "  </thead>\n",
              "  <tbody>\n",
              "    <tr>\n",
              "      <th>0</th>\n",
              "      <td>2014</td>\n",
              "      <td>ACURA</td>\n",
              "      <td>ILX</td>\n",
              "      <td>COMPACT</td>\n",
              "      <td>2.0</td>\n",
              "      <td>4</td>\n",
              "      <td>AS5</td>\n",
              "      <td>Z</td>\n",
              "      <td>9.9</td>\n",
              "      <td>6.7</td>\n",
              "      <td>8.5</td>\n",
              "      <td>33</td>\n",
              "      <td>196</td>\n",
              "    </tr>\n",
              "    <tr>\n",
              "      <th>1</th>\n",
              "      <td>2014</td>\n",
              "      <td>ACURA</td>\n",
              "      <td>ILX</td>\n",
              "      <td>COMPACT</td>\n",
              "      <td>2.4</td>\n",
              "      <td>4</td>\n",
              "      <td>M6</td>\n",
              "      <td>Z</td>\n",
              "      <td>11.2</td>\n",
              "      <td>7.7</td>\n",
              "      <td>9.6</td>\n",
              "      <td>29</td>\n",
              "      <td>221</td>\n",
              "    </tr>\n",
              "    <tr>\n",
              "      <th>2</th>\n",
              "      <td>2014</td>\n",
              "      <td>ACURA</td>\n",
              "      <td>ILX HYBRID</td>\n",
              "      <td>COMPACT</td>\n",
              "      <td>1.5</td>\n",
              "      <td>4</td>\n",
              "      <td>AV7</td>\n",
              "      <td>Z</td>\n",
              "      <td>6.0</td>\n",
              "      <td>5.8</td>\n",
              "      <td>5.9</td>\n",
              "      <td>48</td>\n",
              "      <td>136</td>\n",
              "    </tr>\n",
              "    <tr>\n",
              "      <th>3</th>\n",
              "      <td>2014</td>\n",
              "      <td>ACURA</td>\n",
              "      <td>MDX 4WD</td>\n",
              "      <td>SUV - SMALL</td>\n",
              "      <td>3.5</td>\n",
              "      <td>6</td>\n",
              "      <td>AS6</td>\n",
              "      <td>Z</td>\n",
              "      <td>12.7</td>\n",
              "      <td>9.1</td>\n",
              "      <td>11.1</td>\n",
              "      <td>25</td>\n",
              "      <td>255</td>\n",
              "    </tr>\n",
              "    <tr>\n",
              "      <th>4</th>\n",
              "      <td>2014</td>\n",
              "      <td>ACURA</td>\n",
              "      <td>RDX AWD</td>\n",
              "      <td>SUV - SMALL</td>\n",
              "      <td>3.5</td>\n",
              "      <td>6</td>\n",
              "      <td>AS6</td>\n",
              "      <td>Z</td>\n",
              "      <td>12.1</td>\n",
              "      <td>8.7</td>\n",
              "      <td>10.6</td>\n",
              "      <td>27</td>\n",
              "      <td>244</td>\n",
              "    </tr>\n",
              "  </tbody>\n",
              "</table>\n",
              "</div>"
            ],
            "text/plain": [
              "   MODELYEAR   MAKE  ... FUELCONSUMPTION_COMB_MPG CO2EMISSIONS\n",
              "0       2014  ACURA  ...                       33          196\n",
              "1       2014  ACURA  ...                       29          221\n",
              "2       2014  ACURA  ...                       48          136\n",
              "3       2014  ACURA  ...                       25          255\n",
              "4       2014  ACURA  ...                       27          244\n",
              "\n",
              "[5 rows x 13 columns]"
            ]
          },
          "metadata": {
            "tags": []
          },
          "execution_count": 2
        }
      ]
    },
    {
      "cell_type": "code",
      "metadata": {
        "id": "rhR6rk8rhejb",
        "colab": {
          "base_uri": "https://localhost:8080/",
          "height": 300
        },
        "outputId": "f5ca25f7-ee8f-4fbf-fef9-7828b546a1a4"
      },
      "source": [
        "data.describe()\n",
        "#percebe-se uma continuidade nos quartis, a amostra parece boa"
      ],
      "execution_count": null,
      "outputs": [
        {
          "output_type": "execute_result",
          "data": {
            "text/html": [
              "<div>\n",
              "<style scoped>\n",
              "    .dataframe tbody tr th:only-of-type {\n",
              "        vertical-align: middle;\n",
              "    }\n",
              "\n",
              "    .dataframe tbody tr th {\n",
              "        vertical-align: top;\n",
              "    }\n",
              "\n",
              "    .dataframe thead th {\n",
              "        text-align: right;\n",
              "    }\n",
              "</style>\n",
              "<table border=\"1\" class=\"dataframe\">\n",
              "  <thead>\n",
              "    <tr style=\"text-align: right;\">\n",
              "      <th></th>\n",
              "      <th>MODELYEAR</th>\n",
              "      <th>ENGINESIZE</th>\n",
              "      <th>CYLINDERS</th>\n",
              "      <th>FUELCONSUMPTION_CITY</th>\n",
              "      <th>FUELCONSUMPTION_HWY</th>\n",
              "      <th>FUELCONSUMPTION_COMB</th>\n",
              "      <th>FUELCONSUMPTION_COMB_MPG</th>\n",
              "      <th>CO2EMISSIONS</th>\n",
              "    </tr>\n",
              "  </thead>\n",
              "  <tbody>\n",
              "    <tr>\n",
              "      <th>count</th>\n",
              "      <td>1067.0</td>\n",
              "      <td>1067.000000</td>\n",
              "      <td>1067.000000</td>\n",
              "      <td>1067.000000</td>\n",
              "      <td>1067.000000</td>\n",
              "      <td>1067.000000</td>\n",
              "      <td>1067.000000</td>\n",
              "      <td>1067.000000</td>\n",
              "    </tr>\n",
              "    <tr>\n",
              "      <th>mean</th>\n",
              "      <td>2014.0</td>\n",
              "      <td>3.346298</td>\n",
              "      <td>5.794752</td>\n",
              "      <td>13.296532</td>\n",
              "      <td>9.474602</td>\n",
              "      <td>11.580881</td>\n",
              "      <td>26.441425</td>\n",
              "      <td>256.228679</td>\n",
              "    </tr>\n",
              "    <tr>\n",
              "      <th>std</th>\n",
              "      <td>0.0</td>\n",
              "      <td>1.415895</td>\n",
              "      <td>1.797447</td>\n",
              "      <td>4.101253</td>\n",
              "      <td>2.794510</td>\n",
              "      <td>3.485595</td>\n",
              "      <td>7.468702</td>\n",
              "      <td>63.372304</td>\n",
              "    </tr>\n",
              "    <tr>\n",
              "      <th>min</th>\n",
              "      <td>2014.0</td>\n",
              "      <td>1.000000</td>\n",
              "      <td>3.000000</td>\n",
              "      <td>4.600000</td>\n",
              "      <td>4.900000</td>\n",
              "      <td>4.700000</td>\n",
              "      <td>11.000000</td>\n",
              "      <td>108.000000</td>\n",
              "    </tr>\n",
              "    <tr>\n",
              "      <th>25%</th>\n",
              "      <td>2014.0</td>\n",
              "      <td>2.000000</td>\n",
              "      <td>4.000000</td>\n",
              "      <td>10.250000</td>\n",
              "      <td>7.500000</td>\n",
              "      <td>9.000000</td>\n",
              "      <td>21.000000</td>\n",
              "      <td>207.000000</td>\n",
              "    </tr>\n",
              "    <tr>\n",
              "      <th>50%</th>\n",
              "      <td>2014.0</td>\n",
              "      <td>3.400000</td>\n",
              "      <td>6.000000</td>\n",
              "      <td>12.600000</td>\n",
              "      <td>8.800000</td>\n",
              "      <td>10.900000</td>\n",
              "      <td>26.000000</td>\n",
              "      <td>251.000000</td>\n",
              "    </tr>\n",
              "    <tr>\n",
              "      <th>75%</th>\n",
              "      <td>2014.0</td>\n",
              "      <td>4.300000</td>\n",
              "      <td>8.000000</td>\n",
              "      <td>15.550000</td>\n",
              "      <td>10.850000</td>\n",
              "      <td>13.350000</td>\n",
              "      <td>31.000000</td>\n",
              "      <td>294.000000</td>\n",
              "    </tr>\n",
              "    <tr>\n",
              "      <th>max</th>\n",
              "      <td>2014.0</td>\n",
              "      <td>8.400000</td>\n",
              "      <td>12.000000</td>\n",
              "      <td>30.200000</td>\n",
              "      <td>20.500000</td>\n",
              "      <td>25.800000</td>\n",
              "      <td>60.000000</td>\n",
              "      <td>488.000000</td>\n",
              "    </tr>\n",
              "  </tbody>\n",
              "</table>\n",
              "</div>"
            ],
            "text/plain": [
              "       MODELYEAR   ENGINESIZE  ...  FUELCONSUMPTION_COMB_MPG  CO2EMISSIONS\n",
              "count     1067.0  1067.000000  ...               1067.000000   1067.000000\n",
              "mean      2014.0     3.346298  ...                 26.441425    256.228679\n",
              "std          0.0     1.415895  ...                  7.468702     63.372304\n",
              "min       2014.0     1.000000  ...                 11.000000    108.000000\n",
              "25%       2014.0     2.000000  ...                 21.000000    207.000000\n",
              "50%       2014.0     3.400000  ...                 26.000000    251.000000\n",
              "75%       2014.0     4.300000  ...                 31.000000    294.000000\n",
              "max       2014.0     8.400000  ...                 60.000000    488.000000\n",
              "\n",
              "[8 rows x 8 columns]"
            ]
          },
          "metadata": {
            "tags": []
          },
          "execution_count": 3
        }
      ]
    },
    {
      "cell_type": "code",
      "metadata": {
        "id": "WaZJGaWJhqjf",
        "colab": {
          "base_uri": "https://localhost:8080/",
          "height": 278
        },
        "outputId": "7821735b-b541-4a01-fb27-2704602ee73c"
      },
      "source": [
        "#['MODELYEAR','FUELCONSUMPTION_COMB_MPG','VEHICLECLASS','TRANSMISSION','MODEL','MAKE','FUELTYPE']\n",
        "#selecionando os parametros convenientes\n",
        "sdata = data.drop(['MODELYEAR',], axis = 1) \n",
        "sdata.head()\n"
      ],
      "execution_count": null,
      "outputs": [
        {
          "output_type": "execute_result",
          "data": {
            "text/html": [
              "<div>\n",
              "<style scoped>\n",
              "    .dataframe tbody tr th:only-of-type {\n",
              "        vertical-align: middle;\n",
              "    }\n",
              "\n",
              "    .dataframe tbody tr th {\n",
              "        vertical-align: top;\n",
              "    }\n",
              "\n",
              "    .dataframe thead th {\n",
              "        text-align: right;\n",
              "    }\n",
              "</style>\n",
              "<table border=\"1\" class=\"dataframe\">\n",
              "  <thead>\n",
              "    <tr style=\"text-align: right;\">\n",
              "      <th></th>\n",
              "      <th>MAKE</th>\n",
              "      <th>MODEL</th>\n",
              "      <th>VEHICLECLASS</th>\n",
              "      <th>ENGINESIZE</th>\n",
              "      <th>CYLINDERS</th>\n",
              "      <th>TRANSMISSION</th>\n",
              "      <th>FUELTYPE</th>\n",
              "      <th>FUELCONSUMPTION_CITY</th>\n",
              "      <th>FUELCONSUMPTION_HWY</th>\n",
              "      <th>FUELCONSUMPTION_COMB</th>\n",
              "      <th>FUELCONSUMPTION_COMB_MPG</th>\n",
              "      <th>CO2EMISSIONS</th>\n",
              "    </tr>\n",
              "  </thead>\n",
              "  <tbody>\n",
              "    <tr>\n",
              "      <th>0</th>\n",
              "      <td>ACURA</td>\n",
              "      <td>ILX</td>\n",
              "      <td>COMPACT</td>\n",
              "      <td>2.0</td>\n",
              "      <td>4</td>\n",
              "      <td>AS5</td>\n",
              "      <td>Z</td>\n",
              "      <td>9.9</td>\n",
              "      <td>6.7</td>\n",
              "      <td>8.5</td>\n",
              "      <td>33</td>\n",
              "      <td>196</td>\n",
              "    </tr>\n",
              "    <tr>\n",
              "      <th>1</th>\n",
              "      <td>ACURA</td>\n",
              "      <td>ILX</td>\n",
              "      <td>COMPACT</td>\n",
              "      <td>2.4</td>\n",
              "      <td>4</td>\n",
              "      <td>M6</td>\n",
              "      <td>Z</td>\n",
              "      <td>11.2</td>\n",
              "      <td>7.7</td>\n",
              "      <td>9.6</td>\n",
              "      <td>29</td>\n",
              "      <td>221</td>\n",
              "    </tr>\n",
              "    <tr>\n",
              "      <th>2</th>\n",
              "      <td>ACURA</td>\n",
              "      <td>ILX HYBRID</td>\n",
              "      <td>COMPACT</td>\n",
              "      <td>1.5</td>\n",
              "      <td>4</td>\n",
              "      <td>AV7</td>\n",
              "      <td>Z</td>\n",
              "      <td>6.0</td>\n",
              "      <td>5.8</td>\n",
              "      <td>5.9</td>\n",
              "      <td>48</td>\n",
              "      <td>136</td>\n",
              "    </tr>\n",
              "    <tr>\n",
              "      <th>3</th>\n",
              "      <td>ACURA</td>\n",
              "      <td>MDX 4WD</td>\n",
              "      <td>SUV - SMALL</td>\n",
              "      <td>3.5</td>\n",
              "      <td>6</td>\n",
              "      <td>AS6</td>\n",
              "      <td>Z</td>\n",
              "      <td>12.7</td>\n",
              "      <td>9.1</td>\n",
              "      <td>11.1</td>\n",
              "      <td>25</td>\n",
              "      <td>255</td>\n",
              "    </tr>\n",
              "    <tr>\n",
              "      <th>4</th>\n",
              "      <td>ACURA</td>\n",
              "      <td>RDX AWD</td>\n",
              "      <td>SUV - SMALL</td>\n",
              "      <td>3.5</td>\n",
              "      <td>6</td>\n",
              "      <td>AS6</td>\n",
              "      <td>Z</td>\n",
              "      <td>12.1</td>\n",
              "      <td>8.7</td>\n",
              "      <td>10.6</td>\n",
              "      <td>27</td>\n",
              "      <td>244</td>\n",
              "    </tr>\n",
              "  </tbody>\n",
              "</table>\n",
              "</div>"
            ],
            "text/plain": [
              "    MAKE       MODEL  ... FUELCONSUMPTION_COMB_MPG  CO2EMISSIONS\n",
              "0  ACURA         ILX  ...                       33           196\n",
              "1  ACURA         ILX  ...                       29           221\n",
              "2  ACURA  ILX HYBRID  ...                       48           136\n",
              "3  ACURA     MDX 4WD  ...                       25           255\n",
              "4  ACURA     RDX AWD  ...                       27           244\n",
              "\n",
              "[5 rows x 12 columns]"
            ]
          },
          "metadata": {
            "tags": []
          },
          "execution_count": 4
        }
      ]
    },
    {
      "cell_type": "code",
      "metadata": {
        "id": "kaZSQTuwiGLP",
        "colab": {
          "base_uri": "https://localhost:8080/"
        },
        "outputId": "2e8d0dde-c753-4df5-bfe6-c8b200bfaa98"
      },
      "source": [
        "sdata.info()\n",
        "np.shape(sdata)"
      ],
      "execution_count": null,
      "outputs": [
        {
          "output_type": "stream",
          "text": [
            "<class 'pandas.core.frame.DataFrame'>\n",
            "RangeIndex: 1067 entries, 0 to 1066\n",
            "Data columns (total 12 columns):\n",
            " #   Column                    Non-Null Count  Dtype  \n",
            "---  ------                    --------------  -----  \n",
            " 0   MAKE                      1067 non-null   object \n",
            " 1   MODEL                     1067 non-null   object \n",
            " 2   VEHICLECLASS              1067 non-null   object \n",
            " 3   ENGINESIZE                1067 non-null   float64\n",
            " 4   CYLINDERS                 1067 non-null   int64  \n",
            " 5   TRANSMISSION              1067 non-null   object \n",
            " 6   FUELTYPE                  1067 non-null   object \n",
            " 7   FUELCONSUMPTION_CITY      1067 non-null   float64\n",
            " 8   FUELCONSUMPTION_HWY       1067 non-null   float64\n",
            " 9   FUELCONSUMPTION_COMB      1067 non-null   float64\n",
            " 10  FUELCONSUMPTION_COMB_MPG  1067 non-null   int64  \n",
            " 11  CO2EMISSIONS              1067 non-null   int64  \n",
            "dtypes: float64(4), int64(3), object(5)\n",
            "memory usage: 100.2+ KB\n"
          ],
          "name": "stdout"
        },
        {
          "output_type": "execute_result",
          "data": {
            "text/plain": [
              "(1067, 12)"
            ]
          },
          "metadata": {
            "tags": []
          },
          "execution_count": 5
        }
      ]
    },
    {
      "cell_type": "code",
      "metadata": {
        "id": "ydPzaWFZiZ1p",
        "colab": {
          "base_uri": "https://localhost:8080/",
          "height": 779
        },
        "outputId": "1f793275-d908-4103-8ffa-55426e3b99a9"
      },
      "source": [
        "fig, axs = plt.subplots(ncols=2, nrows=4, figsize=(16, 8))  #sao 4 colunas, dai fiz 2x2\n",
        "index = 0\n",
        "axs = axs.flatten()                                     #oq e isso\n",
        "for k,v in  sdata.select_dtypes(include=['float64','int']).items():\n",
        "    sns.distplot(v, ax=axs[index])\n",
        "    index += 1\n",
        "#plt.tight_layout(pad=0.4, w_pad=0.5, h_pad=5.0)"
      ],
      "execution_count": null,
      "outputs": [
        {
          "output_type": "stream",
          "text": [
            "/usr/local/lib/python3.6/dist-packages/seaborn/distributions.py:2551: FutureWarning: `distplot` is a deprecated function and will be removed in a future version. Please adapt your code to use either `displot` (a figure-level function with similar flexibility) or `histplot` (an axes-level function for histograms).\n",
            "  warnings.warn(msg, FutureWarning)\n",
            "/usr/local/lib/python3.6/dist-packages/seaborn/distributions.py:2551: FutureWarning: `distplot` is a deprecated function and will be removed in a future version. Please adapt your code to use either `displot` (a figure-level function with similar flexibility) or `histplot` (an axes-level function for histograms).\n",
            "  warnings.warn(msg, FutureWarning)\n",
            "/usr/local/lib/python3.6/dist-packages/seaborn/distributions.py:2551: FutureWarning: `distplot` is a deprecated function and will be removed in a future version. Please adapt your code to use either `displot` (a figure-level function with similar flexibility) or `histplot` (an axes-level function for histograms).\n",
            "  warnings.warn(msg, FutureWarning)\n",
            "/usr/local/lib/python3.6/dist-packages/seaborn/distributions.py:2551: FutureWarning: `distplot` is a deprecated function and will be removed in a future version. Please adapt your code to use either `displot` (a figure-level function with similar flexibility) or `histplot` (an axes-level function for histograms).\n",
            "  warnings.warn(msg, FutureWarning)\n",
            "/usr/local/lib/python3.6/dist-packages/seaborn/distributions.py:2551: FutureWarning: `distplot` is a deprecated function and will be removed in a future version. Please adapt your code to use either `displot` (a figure-level function with similar flexibility) or `histplot` (an axes-level function for histograms).\n",
            "  warnings.warn(msg, FutureWarning)\n",
            "/usr/local/lib/python3.6/dist-packages/seaborn/distributions.py:2551: FutureWarning: `distplot` is a deprecated function and will be removed in a future version. Please adapt your code to use either `displot` (a figure-level function with similar flexibility) or `histplot` (an axes-level function for histograms).\n",
            "  warnings.warn(msg, FutureWarning)\n",
            "/usr/local/lib/python3.6/dist-packages/seaborn/distributions.py:2551: FutureWarning: `distplot` is a deprecated function and will be removed in a future version. Please adapt your code to use either `displot` (a figure-level function with similar flexibility) or `histplot` (an axes-level function for histograms).\n",
            "  warnings.warn(msg, FutureWarning)\n"
          ],
          "name": "stderr"
        },
        {
          "output_type": "display_data",
          "data": {
            "image/png": "[encoded data removed]",
            "text/plain": [
              "<Figure size 1152x576 with 8 Axes>"
            ]
          },
          "metadata": {
            "tags": [],
            "needs_background": "light"
          }
        }
      ]
    },
    {
      "cell_type": "code",
      "metadata": {
        "id": "ioQB4gV2jXzU",
        "colab": {
          "base_uri": "https://localhost:8080/",
          "height": 676
        },
        "outputId": "a3094887-0881-44ed-8984-10af13bcbee2"
      },
      "source": [
        "#separar os dados para treino e para teste, mas antes disso ver quais tem melhor correlação com o CO2\n",
        "plt.figure(figsize=(16, 8))\n",
        "sns.heatmap(sdata.corr().abs(),  annot=True)\n",
        "#todos parecem ter uma otima relação, a pior foi 0.85!!!"
      ],
      "execution_count": null,
      "outputs": [
        {
          "output_type": "execute_result",
          "data": {
            "text/plain": [
              "<matplotlib.axes._subplots.AxesSubplot at 0x7f24d3064668>"
            ]
          },
          "metadata": {
            "tags": []
          },
          "execution_count": 7
        },
        {
          "output_type": "display_data",
          "data": {
            "image/png": "[encoded data removed]",
            "text/plain": [
              "<Figure size 1152x576 with 2 Axes>"
            ]
          },
          "metadata": {
            "tags": [],
            "needs_background": "light"
          }
        }
      ]
    },
    {
      "cell_type": "code",
      "metadata": {
        "id": "Kd7Qd5LAkR2m"
      },
      "source": [
        "#separando os dados em função do alvo o CO2\n",
        "\n",
        "X = sdata.drop(['CO2EMISSIONS'], axis = 1) \n",
        "y = sdata['CO2EMISSIONS']"
      ],
      "execution_count": null,
      "outputs": []
    },
    {
      "cell_type": "code",
      "metadata": {
        "id": "QADG8R6Ik7i1"
      },
      "source": [
        "#separação dos dados para treino e teste\n",
        "\n",
        "X_train, X_test, y_train, y_test = train_test_split(X,y, test_size = 0.3, random_state = 4)"
      ],
      "execution_count": null,
      "outputs": []
    },
    {
      "cell_type": "code",
      "metadata": {
        "id": "XsYigVEd3TDf",
        "colab": {
          "base_uri": "https://localhost:8080/"
        },
        "outputId": "5d640e87-d9b0-4c35-df54-3bb0003e5916"
      },
      "source": [
        "#lidando com categorical data\n",
        "#pegando as colunas object\n",
        "object_cols = [col for col in X_train.columns if X_train[col].dtype == \"object\"]\n",
        "\n",
        "#certificando q ta no treino e teste\n",
        "good_label_cols = [col for col in object_cols if set(X_train[col]) == set(X_test[col])]\n",
        "\n",
        "bad_label_cols = list(set(object_cols)-set(good_label_cols))\n",
        "print(bad_label_cols)\n",
        "# pegando o numero de variaveis categoricas (nunique)\n",
        "object_nunique = list(map(lambda col: X_train[col].nunique(), object_cols))\n",
        "d = dict(zip(object_cols, object_nunique))\n",
        "\n",
        "# Print number of unique entries by column, in ascending order\n",
        "sorted(d.items(), key=lambda x: x[1])"
      ],
      "execution_count": null,
      "outputs": [
        {
          "output_type": "stream",
          "text": [
            "['TRANSMISSION', 'MAKE', 'MODEL']\n"
          ],
          "name": "stdout"
        },
        {
          "output_type": "execute_result",
          "data": {
            "text/plain": [
              "[('FUELTYPE', 4),\n",
              " ('VEHICLECLASS', 16),\n",
              " ('TRANSMISSION', 22),\n",
              " ('MAKE', 39),\n",
              " ('MODEL', 518)]"
            ]
          },
          "metadata": {
            "tags": []
          },
          "execution_count": 10
        }
      ]
    },
    {
      "cell_type": "code",
      "metadata": {
        "id": "yPtmUxoz8qwJ"
      },
      "source": [
        "#drop model, make, high cardinality\n",
        "X_train_c = X_train.drop( bad_label_cols, axis = 1)\n",
        "X_test_c = X_test.drop( bad_label_cols, axis = 1)\n",
        "y_train_c, y_test_c =  y_train, y_test"
      ],
      "execution_count": null,
      "outputs": []
    },
    {
      "cell_type": "code",
      "metadata": {
        "id": "c0z0vrjf-pm7",
        "colab": {
          "base_uri": "https://localhost:8080/"
        },
        "outputId": "6dee8981-1012-4ab8-d3a5-91fe8e73ac49"
      },
      "source": [
        "#now i also fuel type and vehicle class as object input \n",
        "print(X_train_c.select_dtypes(np.object))\n",
        "\n",
        "object_cols = [col for col in X_train_c.columns if X_train_c[col].dtype == \"object\"]\n"
      ],
      "execution_count": null,
      "outputs": [
        {
          "output_type": "stream",
          "text": [
            "                 VEHICLECLASS FUELTYPE\n",
            "798                TWO-SEATER        Z\n",
            "1052              SUV - SMALL        Z\n",
            "42             SUV - STANDARD        Z\n",
            "304                 FULL-SIZE        X\n",
            "774                TWO-SEATER        Z\n",
            "...                       ...      ...\n",
            "456   PICKUP TRUCK - STANDARD        E\n",
            "360               SUV - SMALL        X\n",
            "709                  MID-SIZE        X\n",
            "439               VAN - CARGO        X\n",
            "174                  MID-SIZE        Z\n",
            "\n",
            "[746 rows x 2 columns]\n"
          ],
          "name": "stdout"
        }
      ]
    },
    {
      "cell_type": "code",
      "metadata": {
        "id": "NUIUZxyfAzla",
        "colab": {
          "base_uri": "https://localhost:8080/",
          "height": 225
        },
        "outputId": "851e74a2-bf79-4591-c90a-95c2892f7f19"
      },
      "source": [
        "#for xgb, normalize data is good, but i cant normalize encoded data, i normalize only real numbers\n",
        "from sklearn.preprocessing import OneHotEncoder\n",
        "\n",
        "low_cardinality_cols = [col for col in object_cols if X_train_c[col].nunique() < 10]\n",
        "#set subtraction\n",
        "high_cardinality_cols = list(set(object_cols)-set(low_cardinality_cols))\n",
        "\n",
        "\n",
        "OH_X_train =  X_train_c[low_cardinality_cols]\n",
        "OH_X_test =  X_test_c[low_cardinality_cols]\n",
        "\n",
        "\n",
        "#ONE-HOT encoding\n",
        "OH_encoder = OneHotEncoder(handle_unknown='ignore', sparse=False)\n",
        "\n",
        "\n",
        "\n",
        "#cria um dataframe pro encoding\n",
        "OH_cols_train = pd.DataFrame(OH_encoder.fit_transform(OH_X_train))\n",
        "OH_cols_test = pd.DataFrame(OH_encoder.transform(OH_X_test))\n",
        "\n",
        "# One-hot encoding removed index; put it back\n",
        "OH_cols_train.index = X_train_c.index\n",
        "OH_cols_test.index = X_test_c.index\n",
        "\n",
        "# Remove categorical columns (will replace with one-hot encoding)\n",
        "num_X_train = X_train_c.drop(object_cols, axis=1)\n",
        "num_X_test = X_test_c.drop(object_cols, axis=1)\n",
        "\n",
        "# Add one-hot encoded columns to numerical features\n",
        "OH_X_train = pd.concat([num_X_train, OH_cols_train], axis=1)\n",
        "OH_X_test = pd.concat([num_X_test, OH_cols_test], axis=1)\n",
        "\n",
        "dif = [col for col in object_cols if set(X_train_c[col]) != set(X_test_c[col])]\n",
        "print(dif)\n",
        "\n",
        "OH_X_test.head()\n",
        "#aqui tao meus dados com encode"
      ],
      "execution_count": null,
      "outputs": [
        {
          "output_type": "stream",
          "text": [
            "[]\n"
          ],
          "name": "stdout"
        },
        {
          "output_type": "execute_result",
          "data": {
            "text/html": [
              "<div>\n",
              "<style scoped>\n",
              "    .dataframe tbody tr th:only-of-type {\n",
              "        vertical-align: middle;\n",
              "    }\n",
              "\n",
              "    .dataframe tbody tr th {\n",
              "        vertical-align: top;\n",
              "    }\n",
              "\n",
              "    .dataframe thead th {\n",
              "        text-align: right;\n",
              "    }\n",
              "</style>\n",
              "<table border=\"1\" class=\"dataframe\">\n",
              "  <thead>\n",
              "    <tr style=\"text-align: right;\">\n",
              "      <th></th>\n",
              "      <th>ENGINESIZE</th>\n",
              "      <th>CYLINDERS</th>\n",
              "      <th>FUELCONSUMPTION_CITY</th>\n",
              "      <th>FUELCONSUMPTION_HWY</th>\n",
              "      <th>FUELCONSUMPTION_COMB</th>\n",
              "      <th>FUELCONSUMPTION_COMB_MPG</th>\n",
              "      <th>0</th>\n",
              "      <th>1</th>\n",
              "      <th>2</th>\n",
              "      <th>3</th>\n",
              "    </tr>\n",
              "  </thead>\n",
              "  <tbody>\n",
              "    <tr>\n",
              "      <th>834</th>\n",
              "      <td>3.7</td>\n",
              "      <td>6</td>\n",
              "      <td>13.0</td>\n",
              "      <td>9.5</td>\n",
              "      <td>11.4</td>\n",
              "      <td>25</td>\n",
              "      <td>0.0</td>\n",
              "      <td>0.0</td>\n",
              "      <td>0.0</td>\n",
              "      <td>1.0</td>\n",
              "    </tr>\n",
              "    <tr>\n",
              "      <th>66</th>\n",
              "      <td>2.0</td>\n",
              "      <td>4</td>\n",
              "      <td>11.5</td>\n",
              "      <td>8.8</td>\n",
              "      <td>10.3</td>\n",
              "      <td>27</td>\n",
              "      <td>0.0</td>\n",
              "      <td>0.0</td>\n",
              "      <td>0.0</td>\n",
              "      <td>1.0</td>\n",
              "    </tr>\n",
              "    <tr>\n",
              "      <th>983</th>\n",
              "      <td>3.5</td>\n",
              "      <td>6</td>\n",
              "      <td>12.6</td>\n",
              "      <td>9.4</td>\n",
              "      <td>11.2</td>\n",
              "      <td>25</td>\n",
              "      <td>0.0</td>\n",
              "      <td>0.0</td>\n",
              "      <td>1.0</td>\n",
              "      <td>0.0</td>\n",
              "    </tr>\n",
              "    <tr>\n",
              "      <th>849</th>\n",
              "      <td>3.5</td>\n",
              "      <td>6</td>\n",
              "      <td>13.2</td>\n",
              "      <td>10.1</td>\n",
              "      <td>11.8</td>\n",
              "      <td>24</td>\n",
              "      <td>0.0</td>\n",
              "      <td>0.0</td>\n",
              "      <td>1.0</td>\n",
              "      <td>0.0</td>\n",
              "    </tr>\n",
              "    <tr>\n",
              "      <th>110</th>\n",
              "      <td>4.4</td>\n",
              "      <td>8</td>\n",
              "      <td>15.0</td>\n",
              "      <td>9.8</td>\n",
              "      <td>12.7</td>\n",
              "      <td>22</td>\n",
              "      <td>0.0</td>\n",
              "      <td>0.0</td>\n",
              "      <td>0.0</td>\n",
              "      <td>1.0</td>\n",
              "    </tr>\n",
              "  </tbody>\n",
              "</table>\n",
              "</div>"
            ],
            "text/plain": [
              "     ENGINESIZE  CYLINDERS  FUELCONSUMPTION_CITY  ...    1    2    3\n",
              "834         3.7          6                  13.0  ...  0.0  0.0  1.0\n",
              "66          2.0          4                  11.5  ...  0.0  0.0  1.0\n",
              "983         3.5          6                  12.6  ...  0.0  1.0  0.0\n",
              "849         3.5          6                  13.2  ...  0.0  1.0  0.0\n",
              "110         4.4          8                  15.0  ...  0.0  0.0  1.0\n",
              "\n",
              "[5 rows x 10 columns]"
            ]
          },
          "metadata": {
            "tags": []
          },
          "execution_count": 13
        }
      ]
    },
    {
      "cell_type": "code",
      "metadata": {
        "id": "uo9Wt8TlUMUh"
      },
      "source": [
        "X_train_c = X_train_c.drop(high_cardinality_cols, axis = 1)\n",
        "X_test_c = X_test_c.drop(high_cardinality_cols, axis = 1)"
      ],
      "execution_count": null,
      "outputs": []
    },
    {
      "cell_type": "code",
      "metadata": {
        "id": "ShGevZmpPeje",
        "colab": {
          "base_uri": "https://localhost:8080/",
          "height": 225
        },
        "outputId": "5aa5b70d-368f-4895-c179-7ec8ce26741c"
      },
      "source": [
        "columnsToEncode=X[low_cardinality_cols].columns\n",
        "print(columnsToEncode)\n",
        "\n",
        "X_train2 = pd.get_dummies(X_train_c, columns=columnsToEncode, drop_first=True)\n",
        "X_test2 = pd.get_dummies(X_test_c, columns=columnsToEncode, drop_first=True)\n",
        "\n",
        "X_train2.head()"
      ],
      "execution_count": null,
      "outputs": [
        {
          "output_type": "stream",
          "text": [
            "Index(['FUELTYPE'], dtype='object')\n"
          ],
          "name": "stdout"
        },
        {
          "output_type": "execute_result",
          "data": {
            "text/html": [
              "<div>\n",
              "<style scoped>\n",
              "    .dataframe tbody tr th:only-of-type {\n",
              "        vertical-align: middle;\n",
              "    }\n",
              "\n",
              "    .dataframe tbody tr th {\n",
              "        vertical-align: top;\n",
              "    }\n",
              "\n",
              "    .dataframe thead th {\n",
              "        text-align: right;\n",
              "    }\n",
              "</style>\n",
              "<table border=\"1\" class=\"dataframe\">\n",
              "  <thead>\n",
              "    <tr style=\"text-align: right;\">\n",
              "      <th></th>\n",
              "      <th>ENGINESIZE</th>\n",
              "      <th>CYLINDERS</th>\n",
              "      <th>FUELCONSUMPTION_CITY</th>\n",
              "      <th>FUELCONSUMPTION_HWY</th>\n",
              "      <th>FUELCONSUMPTION_COMB</th>\n",
              "      <th>FUELCONSUMPTION_COMB_MPG</th>\n",
              "      <th>FUELTYPE_E</th>\n",
              "      <th>FUELTYPE_X</th>\n",
              "      <th>FUELTYPE_Z</th>\n",
              "    </tr>\n",
              "  </thead>\n",
              "  <tbody>\n",
              "    <tr>\n",
              "      <th>798</th>\n",
              "      <td>1.6</td>\n",
              "      <td>4</td>\n",
              "      <td>9.3</td>\n",
              "      <td>7.0</td>\n",
              "      <td>8.3</td>\n",
              "      <td>34</td>\n",
              "      <td>0</td>\n",
              "      <td>0</td>\n",
              "      <td>1</td>\n",
              "    </tr>\n",
              "    <tr>\n",
              "      <th>1052</th>\n",
              "      <td>2.0</td>\n",
              "      <td>4</td>\n",
              "      <td>13.6</td>\n",
              "      <td>9.2</td>\n",
              "      <td>11.6</td>\n",
              "      <td>24</td>\n",
              "      <td>0</td>\n",
              "      <td>0</td>\n",
              "      <td>1</td>\n",
              "    </tr>\n",
              "    <tr>\n",
              "      <th>42</th>\n",
              "      <td>3.0</td>\n",
              "      <td>6</td>\n",
              "      <td>15.1</td>\n",
              "      <td>10.9</td>\n",
              "      <td>13.2</td>\n",
              "      <td>21</td>\n",
              "      <td>0</td>\n",
              "      <td>0</td>\n",
              "      <td>1</td>\n",
              "    </tr>\n",
              "    <tr>\n",
              "      <th>304</th>\n",
              "      <td>5.7</td>\n",
              "      <td>8</td>\n",
              "      <td>15.8</td>\n",
              "      <td>9.2</td>\n",
              "      <td>12.8</td>\n",
              "      <td>22</td>\n",
              "      <td>0</td>\n",
              "      <td>1</td>\n",
              "      <td>0</td>\n",
              "    </tr>\n",
              "    <tr>\n",
              "      <th>774</th>\n",
              "      <td>1.8</td>\n",
              "      <td>4</td>\n",
              "      <td>10.4</td>\n",
              "      <td>7.3</td>\n",
              "      <td>9.0</td>\n",
              "      <td>31</td>\n",
              "      <td>0</td>\n",
              "      <td>0</td>\n",
              "      <td>1</td>\n",
              "    </tr>\n",
              "  </tbody>\n",
              "</table>\n",
              "</div>"
            ],
            "text/plain": [
              "      ENGINESIZE  CYLINDERS  ...  FUELTYPE_X  FUELTYPE_Z\n",
              "798          1.6          4  ...           0           1\n",
              "1052         2.0          4  ...           0           1\n",
              "42           3.0          6  ...           0           1\n",
              "304          5.7          8  ...           1           0\n",
              "774          1.8          4  ...           0           1\n",
              "\n",
              "[5 rows x 9 columns]"
            ]
          },
          "metadata": {
            "tags": []
          },
          "execution_count": 15
        }
      ]
    },
    {
      "cell_type": "code",
      "metadata": {
        "id": "t9GFsYzOCq82",
        "colab": {
          "base_uri": "https://localhost:8080/"
        },
        "outputId": "faf27ecd-6dd6-4be0-a36a-346664a226a1"
      },
      "source": [
        "#dados float\n",
        "X = sdata.select_dtypes(exclude=['object'])\n",
        "y = sdata['CO2EMISSIONS']\n",
        "print(X.columns)\n",
        "X_train, X_test, y_train, y_test = train_test_split(X,y, test_size = 0.3, random_state = 2)"
      ],
      "execution_count": null,
      "outputs": [
        {
          "output_type": "stream",
          "text": [
            "Index(['ENGINESIZE', 'CYLINDERS', 'FUELCONSUMPTION_CITY',\n",
            "       'FUELCONSUMPTION_HWY', 'FUELCONSUMPTION_COMB',\n",
            "       'FUELCONSUMPTION_COMB_MPG', 'CO2EMISSIONS'],\n",
            "      dtype='object')\n"
          ],
          "name": "stdout"
        }
      ]
    },
    {
      "cell_type": "code",
      "metadata": {
        "id": "tfA7ejfqlHqk",
        "colab": {
          "base_uri": "https://localhost:8080/"
        },
        "outputId": "20b4a08a-88f7-4038-d004-04671e56f8bf"
      },
      "source": [
        "#Training Model\n",
        "\n",
        "# Create a Linear model\n",
        "lm = lr()\n",
        "\n",
        "# Train the model using the training sets \n",
        "lm.fit(X_train, y_train)\n",
        "\n",
        "lm.intercept_"
      ],
      "execution_count": null,
      "outputs": [
        {
          "output_type": "execute_result",
          "data": {
            "text/plain": [
              "-1.1368683772161603e-13"
            ]
          },
          "metadata": {
            "tags": []
          },
          "execution_count": 17
        }
      ]
    },
    {
      "cell_type": "code",
      "metadata": {
        "id": "T3UX_2aOlMnj",
        "colab": {
          "base_uri": "https://localhost:8080/",
          "height": 269
        },
        "outputId": "2d69a3ab-87f9-4e78-dfeb-dda31b085ed2"
      },
      "source": [
        "coef = pd.DataFrame([X_train.columns,lm.coef_])   #os parametros sao representados pelas colunas, no caso os coef obtidos sao para os de treino, pega-los\n",
        "coef = coef.T\n",
        "#agora vou renomear as colunas criando um dicionario, ja tenho meus coeficientes :)\n",
        "\n",
        "dicio = {0:'Parametro',1:'Coef'}\n",
        "coef = coef.rename(columns = dicio)\n",
        "coef"
      ],
      "execution_count": null,
      "outputs": [
        {
          "output_type": "execute_result",
          "data": {
            "text/html": [
              "<div>\n",
              "<style scoped>\n",
              "    .dataframe tbody tr th:only-of-type {\n",
              "        vertical-align: middle;\n",
              "    }\n",
              "\n",
              "    .dataframe tbody tr th {\n",
              "        vertical-align: top;\n",
              "    }\n",
              "\n",
              "    .dataframe thead th {\n",
              "        text-align: right;\n",
              "    }\n",
              "</style>\n",
              "<table border=\"1\" class=\"dataframe\">\n",
              "  <thead>\n",
              "    <tr style=\"text-align: right;\">\n",
              "      <th></th>\n",
              "      <th>Parametro</th>\n",
              "      <th>Coef</th>\n",
              "    </tr>\n",
              "  </thead>\n",
              "  <tbody>\n",
              "    <tr>\n",
              "      <th>0</th>\n",
              "      <td>ENGINESIZE</td>\n",
              "      <td>3.37866e-14</td>\n",
              "    </tr>\n",
              "    <tr>\n",
              "      <th>1</th>\n",
              "      <td>CYLINDERS</td>\n",
              "      <td>-6.99441e-15</td>\n",
              "    </tr>\n",
              "    <tr>\n",
              "      <th>2</th>\n",
              "      <td>FUELCONSUMPTION_CITY</td>\n",
              "      <td>1.85199e-14</td>\n",
              "    </tr>\n",
              "    <tr>\n",
              "      <th>3</th>\n",
              "      <td>FUELCONSUMPTION_HWY</td>\n",
              "      <td>1.82493e-14</td>\n",
              "    </tr>\n",
              "    <tr>\n",
              "      <th>4</th>\n",
              "      <td>FUELCONSUMPTION_COMB</td>\n",
              "      <td>-3.84068e-14</td>\n",
              "    </tr>\n",
              "    <tr>\n",
              "      <th>5</th>\n",
              "      <td>FUELCONSUMPTION_COMB_MPG</td>\n",
              "      <td>1.52656e-16</td>\n",
              "    </tr>\n",
              "    <tr>\n",
              "      <th>6</th>\n",
              "      <td>CO2EMISSIONS</td>\n",
              "      <td>1</td>\n",
              "    </tr>\n",
              "  </tbody>\n",
              "</table>\n",
              "</div>"
            ],
            "text/plain": [
              "                  Parametro         Coef\n",
              "0                ENGINESIZE  3.37866e-14\n",
              "1                 CYLINDERS -6.99441e-15\n",
              "2      FUELCONSUMPTION_CITY  1.85199e-14\n",
              "3       FUELCONSUMPTION_HWY  1.82493e-14\n",
              "4      FUELCONSUMPTION_COMB -3.84068e-14\n",
              "5  FUELCONSUMPTION_COMB_MPG  1.52656e-16\n",
              "6              CO2EMISSIONS            1"
            ]
          },
          "metadata": {
            "tags": []
          },
          "execution_count": 18
        }
      ]
    },
    {
      "cell_type": "code",
      "metadata": {
        "id": "9AHe-tMDqOY9",
        "colab": {
          "base_uri": "https://localhost:8080/",
          "height": 206
        },
        "outputId": "d15117c1-5328-4a96-b428-935155af3cea"
      },
      "source": [
        "#com o modelo treinado, agora me resta testar\n",
        "Y_pred = lm.predict(X_test)\n",
        "\n",
        "\n",
        "Y_compare_linear = pd.DataFrame({'Actual': y_test, 'Predicted': Y_pred})\n",
        "Y_compare_linear.head()"
      ],
      "execution_count": null,
      "outputs": [
        {
          "output_type": "execute_result",
          "data": {
            "text/html": [
              "<div>\n",
              "<style scoped>\n",
              "    .dataframe tbody tr th:only-of-type {\n",
              "        vertical-align: middle;\n",
              "    }\n",
              "\n",
              "    .dataframe tbody tr th {\n",
              "        vertical-align: top;\n",
              "    }\n",
              "\n",
              "    .dataframe thead th {\n",
              "        text-align: right;\n",
              "    }\n",
              "</style>\n",
              "<table border=\"1\" class=\"dataframe\">\n",
              "  <thead>\n",
              "    <tr style=\"text-align: right;\">\n",
              "      <th></th>\n",
              "      <th>Actual</th>\n",
              "      <th>Predicted</th>\n",
              "    </tr>\n",
              "  </thead>\n",
              "  <tbody>\n",
              "    <tr>\n",
              "      <th>455</th>\n",
              "      <td>292</td>\n",
              "      <td>292.0</td>\n",
              "    </tr>\n",
              "    <tr>\n",
              "      <th>954</th>\n",
              "      <td>288</td>\n",
              "      <td>288.0</td>\n",
              "    </tr>\n",
              "    <tr>\n",
              "      <th>738</th>\n",
              "      <td>301</td>\n",
              "      <td>301.0</td>\n",
              "    </tr>\n",
              "    <tr>\n",
              "      <th>913</th>\n",
              "      <td>286</td>\n",
              "      <td>286.0</td>\n",
              "    </tr>\n",
              "    <tr>\n",
              "      <th>702</th>\n",
              "      <td>170</td>\n",
              "      <td>170.0</td>\n",
              "    </tr>\n",
              "  </tbody>\n",
              "</table>\n",
              "</div>"
            ],
            "text/plain": [
              "     Actual  Predicted\n",
              "455     292      292.0\n",
              "954     288      288.0\n",
              "738     301      301.0\n",
              "913     286      286.0\n",
              "702     170      170.0"
            ]
          },
          "metadata": {
            "tags": []
          },
          "execution_count": 19
        }
      ]
    },
    {
      "cell_type": "markdown",
      "metadata": {
        "id": "b00wuATUoMpd"
      },
      "source": [
        "\n",
        "\n",
        "```\n",
        "# Using NN\n",
        "```\n",
        "\n"
      ]
    },
    {
      "cell_type": "code",
      "metadata": {
        "id": "8I9qjxJSoMBM",
        "colab": {
          "base_uri": "https://localhost:8080/"
        },
        "outputId": "6cf0e09e-3ce0-4b4f-914f-1ad170ae12dd"
      },
      "source": [
        "import tensorflow as tf\n",
        "from tensorflow import keras\n",
        "from tensorflow.keras.callbacks import EarlyStopping\n",
        "X_train.std()"
      ],
      "execution_count": null,
      "outputs": [
        {
          "output_type": "execute_result",
          "data": {
            "text/plain": [
              "ENGINESIZE                   1.378316\n",
              "CYLINDERS                    1.748878\n",
              "FUELCONSUMPTION_CITY         4.143115\n",
              "FUELCONSUMPTION_HWY          2.857579\n",
              "FUELCONSUMPTION_COMB         3.537127\n",
              "FUELCONSUMPTION_COMB_MPG     7.495445\n",
              "CO2EMISSIONS                62.668602\n",
              "dtype: float64"
            ]
          },
          "metadata": {
            "tags": []
          },
          "execution_count": 20
        }
      ]
    },
    {
      "cell_type": "code",
      "metadata": {
        "id": "o4IRkxmo_waz"
      },
      "source": [
        "#normalizing\n",
        "def norm(x):\n",
        "  return (x - x.mean()) / x.std()\n",
        "  \n",
        "Xtrain_z = norm(X_train)\n",
        "Xtest_z = norm(X_test)"
      ],
      "execution_count": null,
      "outputs": []
    },
    {
      "cell_type": "code",
      "metadata": {
        "id": "fnAHkCQL9NRe"
      },
      "source": [
        "\n",
        "def build_model():\n",
        "  model = keras.Sequential([\n",
        "                          keras.layers.Dense(128,input_dim = X_train.shape[1],kernel_initializer='normal', activation = 'relu'),  #input dim = columns\n",
        "                          keras.layers.Dense(256,kernel_initializer='normal', activation = 'relu'),\n",
        "                          keras.layers.Dense(512,kernel_initializer='normal', activation = 'relu'),\n",
        "                          keras.layers.Dense(512,kernel_initializer='normal', activation = 'relu'),\n",
        "                          keras.layers.Dense(128,kernel_initializer='normal', activation = 'relu'),\n",
        "                          keras.layers.Dense(1,kernel_initializer='normal', activation = 'linear'),     ])\n",
        "  \n",
        "  model.compile(loss = 'mse', optimizer= 'adamax', metrics = ['mean_absolute_error'], )\n",
        "  \n",
        "  return model"
      ],
      "execution_count": null,
      "outputs": []
    },
    {
      "cell_type": "code",
      "metadata": {
        "id": "bgM8UVSqob_p",
        "colab": {
          "base_uri": "https://localhost:8080/"
        },
        "outputId": "586f807b-35a3-460c-97a5-8eb6017657c5"
      },
      "source": [
        "model = build_model()\n",
        "model.summary()"
      ],
      "execution_count": null,
      "outputs": [
        {
          "output_type": "stream",
          "text": [
            "Model: \"sequential\"\n",
            "_________________________________________________________________\n",
            "Layer (type)                 Output Shape              Param #   \n",
            "=================================================================\n",
            "dense (Dense)                (None, 128)               1024      \n",
            "_________________________________________________________________\n",
            "dense_1 (Dense)              (None, 256)               33024     \n",
            "_________________________________________________________________\n",
            "dense_2 (Dense)              (None, 512)               131584    \n",
            "_________________________________________________________________\n",
            "dense_3 (Dense)              (None, 512)               262656    \n",
            "_________________________________________________________________\n",
            "dense_4 (Dense)              (None, 128)               65664     \n",
            "_________________________________________________________________\n",
            "dense_5 (Dense)              (None, 1)                 129       \n",
            "=================================================================\n",
            "Total params: 494,081\n",
            "Trainable params: 494,081\n",
            "Non-trainable params: 0\n",
            "_________________________________________________________________\n"
          ],
          "name": "stdout"
        }
      ]
    },
    {
      "cell_type": "code",
      "metadata": {
        "id": "-zjtcDPzq9G1",
        "colab": {
          "base_uri": "https://localhost:8080/"
        },
        "outputId": "e1b730d8-001e-4d76-9366-92f40b076559"
      },
      "source": [
        "earlystop_callback = EarlyStopping(monitor='mean_absolute_error', min_delta=0.001, patience=1)\n",
        "\n",
        "hist = model.fit(Xtrain_z,y_train, epochs = 1000, validation_split = 2**-3,  callbacks=[earlystop_callback])"
      ],
      "execution_count": null,
      "outputs": [
        {
          "output_type": "stream",
          "text": [
            "Epoch 1/1000\n",
            "21/21 [==============================] - 1s 30ms/step - loss: 70566.7660 - mean_absolute_error: 257.6799 - val_loss: 67394.7656 - val_mean_absolute_error: 252.2417\n",
            "Epoch 2/1000\n",
            "21/21 [==============================] - 0s 9ms/step - loss: 56773.6424 - mean_absolute_error: 227.7049 - val_loss: 14819.9043 - val_mean_absolute_error: 102.9531\n",
            "Epoch 3/1000\n",
            "21/21 [==============================] - 0s 9ms/step - loss: 16383.3629 - mean_absolute_error: 105.4039 - val_loss: 10676.9268 - val_mean_absolute_error: 85.6725\n",
            "Epoch 4/1000\n",
            "21/21 [==============================] - 0s 9ms/step - loss: 9621.9736 - mean_absolute_error: 82.2386 - val_loss: 5710.3359 - val_mean_absolute_error: 60.6841\n",
            "Epoch 5/1000\n",
            "21/21 [==============================] - 0s 9ms/step - loss: 5778.5736 - mean_absolute_error: 63.9631 - val_loss: 2722.4727 - val_mean_absolute_error: 41.6877\n",
            "Epoch 6/1000\n",
            "21/21 [==============================] - 0s 9ms/step - loss: 2701.0767 - mean_absolute_error: 42.8560 - val_loss: 1125.1350 - val_mean_absolute_error: 26.5449\n",
            "Epoch 7/1000\n",
            "21/21 [==============================] - 0s 9ms/step - loss: 1018.9904 - mean_absolute_error: 25.0690 - val_loss: 464.9970 - val_mean_absolute_error: 16.1155\n",
            "Epoch 8/1000\n",
            "21/21 [==============================] - 0s 10ms/step - loss: 422.9377 - mean_absolute_error: 14.8936 - val_loss: 254.5868 - val_mean_absolute_error: 11.8931\n",
            "Epoch 9/1000\n",
            "21/21 [==============================] - 0s 9ms/step - loss: 243.1801 - mean_absolute_error: 11.6495 - val_loss: 186.8593 - val_mean_absolute_error: 10.2100\n",
            "Epoch 10/1000\n",
            "21/21 [==============================] - 0s 11ms/step - loss: 165.9491 - mean_absolute_error: 9.6226 - val_loss: 162.9510 - val_mean_absolute_error: 9.4692\n",
            "Epoch 11/1000\n",
            "21/21 [==============================] - 0s 9ms/step - loss: 174.9651 - mean_absolute_error: 9.1488 - val_loss: 132.7791 - val_mean_absolute_error: 8.4265\n",
            "Epoch 12/1000\n",
            "21/21 [==============================] - 0s 9ms/step - loss: 118.7140 - mean_absolute_error: 7.6681 - val_loss: 109.8324 - val_mean_absolute_error: 7.5749\n",
            "Epoch 13/1000\n",
            "21/21 [==============================] - 0s 9ms/step - loss: 116.8204 - mean_absolute_error: 7.2784 - val_loss: 94.4149 - val_mean_absolute_error: 6.9872\n",
            "Epoch 14/1000\n",
            "21/21 [==============================] - 0s 9ms/step - loss: 102.4803 - mean_absolute_error: 7.0149 - val_loss: 82.8285 - val_mean_absolute_error: 6.5418\n",
            "Epoch 15/1000\n",
            "21/21 [==============================] - 0s 9ms/step - loss: 83.4056 - mean_absolute_error: 6.5603 - val_loss: 75.0399 - val_mean_absolute_error: 6.1536\n",
            "Epoch 16/1000\n",
            "21/21 [==============================] - 0s 9ms/step - loss: 69.4566 - mean_absolute_error: 5.9716 - val_loss: 83.0026 - val_mean_absolute_error: 6.6571\n",
            "Epoch 17/1000\n",
            "21/21 [==============================] - 0s 9ms/step - loss: 84.6210 - mean_absolute_error: 6.1568 - val_loss: 66.5464 - val_mean_absolute_error: 5.9041\n",
            "Epoch 18/1000\n",
            "21/21 [==============================] - 0s 10ms/step - loss: 61.8008 - mean_absolute_error: 5.5096 - val_loss: 55.7074 - val_mean_absolute_error: 5.3421\n",
            "Epoch 19/1000\n",
            "21/21 [==============================] - 0s 9ms/step - loss: 61.8263 - mean_absolute_error: 5.5824 - val_loss: 52.1659 - val_mean_absolute_error: 5.1775\n",
            "Epoch 20/1000\n",
            "21/21 [==============================] - 0s 9ms/step - loss: 65.0395 - mean_absolute_error: 5.6648 - val_loss: 49.1449 - val_mean_absolute_error: 5.0094\n",
            "Epoch 21/1000\n",
            "21/21 [==============================] - 0s 9ms/step - loss: 49.6518 - mean_absolute_error: 5.1397 - val_loss: 46.7815 - val_mean_absolute_error: 4.9248\n",
            "Epoch 22/1000\n",
            "21/21 [==============================] - 0s 9ms/step - loss: 40.7396 - mean_absolute_error: 4.7886 - val_loss: 43.0253 - val_mean_absolute_error: 4.6830\n",
            "Epoch 23/1000\n",
            "21/21 [==============================] - 0s 9ms/step - loss: 48.3139 - mean_absolute_error: 5.0226 - val_loss: 42.7068 - val_mean_absolute_error: 4.7176\n",
            "Epoch 24/1000\n",
            "21/21 [==============================] - 0s 9ms/step - loss: 43.5464 - mean_absolute_error: 4.7290 - val_loss: 39.9865 - val_mean_absolute_error: 4.5972\n",
            "Epoch 25/1000\n",
            "21/21 [==============================] - 0s 9ms/step - loss: 39.5423 - mean_absolute_error: 4.4884 - val_loss: 40.1674 - val_mean_absolute_error: 4.6122\n",
            "Epoch 26/1000\n",
            "21/21 [==============================] - 0s 10ms/step - loss: 33.3793 - mean_absolute_error: 4.3424 - val_loss: 39.0331 - val_mean_absolute_error: 4.5662\n",
            "Epoch 27/1000\n",
            "21/21 [==============================] - 0s 9ms/step - loss: 37.3495 - mean_absolute_error: 4.4491 - val_loss: 37.1777 - val_mean_absolute_error: 4.4631\n",
            "Epoch 28/1000\n",
            "21/21 [==============================] - 0s 9ms/step - loss: 41.2705 - mean_absolute_error: 4.4004 - val_loss: 35.1844 - val_mean_absolute_error: 4.3178\n",
            "Epoch 29/1000\n",
            "21/21 [==============================] - 0s 9ms/step - loss: 32.9224 - mean_absolute_error: 4.2218 - val_loss: 36.7311 - val_mean_absolute_error: 4.4697\n",
            "Epoch 30/1000\n",
            "21/21 [==============================] - 0s 9ms/step - loss: 32.3911 - mean_absolute_error: 4.1276 - val_loss: 31.1011 - val_mean_absolute_error: 4.0666\n",
            "Epoch 31/1000\n",
            "21/21 [==============================] - 0s 10ms/step - loss: 28.9783 - mean_absolute_error: 3.8675 - val_loss: 28.9088 - val_mean_absolute_error: 3.8913\n",
            "Epoch 32/1000\n",
            "21/21 [==============================] - 0s 9ms/step - loss: 25.7377 - mean_absolute_error: 3.9537 - val_loss: 30.4058 - val_mean_absolute_error: 4.0524\n",
            "Epoch 33/1000\n",
            "21/21 [==============================] - 0s 9ms/step - loss: 25.8310 - mean_absolute_error: 3.8305 - val_loss: 29.2240 - val_mean_absolute_error: 3.9838\n",
            "Epoch 34/1000\n",
            "21/21 [==============================] - 0s 9ms/step - loss: 24.9221 - mean_absolute_error: 3.7643 - val_loss: 26.2479 - val_mean_absolute_error: 3.7424\n",
            "Epoch 35/1000\n",
            "21/21 [==============================] - 0s 16ms/step - loss: 22.1792 - mean_absolute_error: 3.5970 - val_loss: 27.0455 - val_mean_absolute_error: 3.8305\n"
          ],
          "name": "stdout"
        }
      ]
    },
    {
      "cell_type": "code",
      "metadata": {
        "id": "sR8fR0XGrQOP"
      },
      "source": [
        "\n",
        "predNN = model.predict(Xtest_z)\n",
        "#hist.history\n",
        "#plt.plot(hist.epoch,hist.history)"
      ],
      "execution_count": null,
      "outputs": []
    },
    {
      "cell_type": "code",
      "metadata": {
        "id": "aQb7mEGcA9Tv",
        "colab": {
          "base_uri": "https://localhost:8080/"
        },
        "outputId": "d5a927ee-f15a-4601-d60b-2553742dc1b5"
      },
      "source": [
        "import xgboost as xgb\n",
        "modelc_xgb = xgb.XGBRegressor(learning_rate= 2**-3,\n",
        "                       n_estimators=6000,\n",
        "                       max_depth=4,\n",
        "                       min_child_weight=0,\n",
        "                       gamma=0.6,\n",
        "                       subsample=0.7,\n",
        "                       colsample_bytree=0.7,\n",
        "                       objective='reg:linear',\n",
        "                       nthread=-1,\n",
        "                       scale_pos_weight=1,\n",
        "                       seed=27,\n",
        "                       reg_alpha=0.00006,\n",
        "                       random_state=42)\n",
        "\n",
        "modelc_xgb.fit(X_train2, y_train_c)\n",
        "predXGB2 = modelc_xgb.predict(X_test2)\n",
        "#eval(y_test_c,predXGB2)"
      ],
      "execution_count": null,
      "outputs": [
        {
          "output_type": "stream",
          "text": [
            "[12:43:00] WARNING: /workspace/src/objective/regression_obj.cu:152: reg:linear is now deprecated in favor of reg:squarederror.\n"
          ],
          "name": "stdout"
        }
      ]
    },
    {
      "cell_type": "code",
      "metadata": {
        "id": "ZOAEhCuuAn7r"
      },
      "source": [
        "#SVR\n",
        "from sklearn.svm import SVR\n",
        "\n",
        "svr = SVR(kernel= 'rbf', gamma='scale', epsilon = 0.01)\n",
        "svr.fit(X_train,y_train)\n",
        "predSVR = svr.predict(X_test)"
      ],
      "execution_count": null,
      "outputs": []
    },
    {
      "cell_type": "code",
      "metadata": {
        "id": "0ssbYxxfBlev"
      },
      "source": [
        "#Elastic Net Regression\n",
        "from sklearn.linear_model import ElasticNet\n",
        "from sklearn.pipeline import make_pipeline\n",
        "from sklearn.preprocessing import RobustScaler\n",
        "\n",
        "ENet = make_pipeline(RobustScaler(), ElasticNet(alpha=0.0005, l1_ratio=.9, random_state=3))\n",
        "ENet.fit(X_train, y_train)\n",
        "predENet = ENet.predict(X_test)"
      ],
      "execution_count": null,
      "outputs": []
    },
    {
      "cell_type": "code",
      "metadata": {
        "id": "H07xYOzh-C34",
        "colab": {
          "base_uri": "https://localhost:8080/"
        },
        "outputId": "9e20d0b6-4800-4496-87fb-2f98227675e7"
      },
      "source": [
        "#Light LGBM\n",
        "from sklearn.model_selection import KFold, GridSearchCV\n",
        "import lightgbm as lgbm\n",
        "import lightgbm as lgb\n",
        "\n",
        "kfold = KFold(n_splits=5, random_state = 2020, shuffle = True)\n",
        "\n",
        "model_lgb = lgb.LGBMRegressor(objective='regression',num_leaves=5,\n",
        "                              learning_rate=2**-6, n_estimators=720,\n",
        "                              max_bin = 55, bagging_fraction = 0.8,\n",
        "                              bagging_freq = 5, feature_fraction = 0.2319,\n",
        "                              feature_fraction_seed=9, bagging_seed=9,\n",
        "                              min_data_in_leaf =6, min_sum_hessian_in_leaf = 11)\n",
        "\n",
        "\n",
        "model_lgb.fit(Xtrain_z, y_train)\n",
        "predGBM = model_lgb.predict(Xtest_z)\n",
        "\n",
        "\n",
        "from sklearn.metrics import mean_absolute_error\n",
        "def score_dataset(X_train, X_valid, y_train, y_valid):\n",
        "    model = lgb.LGBMRegressor(objective='regression',num_leaves=5,\n",
        "                              learning_rate=2**-6, n_estimators=720,\n",
        "                              max_bin = 55, bagging_fraction = 0.8,\n",
        "                              bagging_freq = 5, feature_fraction = 0.2319,\n",
        "                              feature_fraction_seed=9, bagging_seed=9,\n",
        "                              min_data_in_leaf =6, min_sum_hessian_in_leaf = 11)\n",
        "\n",
        "    model.fit(X_train, y_train)\n",
        "    preds = model.predict(X_valid)\n",
        "    return mean_absolute_error(y_valid, preds)\n",
        "\n",
        "score_dataset(X_train, X_test, y_train, y_test)"
      ],
      "execution_count": null,
      "outputs": [
        {
          "output_type": "execute_result",
          "data": {
            "text/plain": [
              "7.84300114804586"
            ]
          },
          "metadata": {
            "tags": []
          },
          "execution_count": 29
        }
      ]
    },
    {
      "cell_type": "code",
      "metadata": {
        "id": "WFzJZspD_e7Q",
        "colab": {
          "base_uri": "https://localhost:8080/"
        },
        "outputId": "57c18272-ef04-43fd-d66d-b7057d7d620e"
      },
      "source": [
        "#XGBoost\n",
        "import xgboost as xgb\n",
        "\n",
        "model_xgb = xgb.XGBRegressor(learning_rate= 2**-3,\n",
        "                       n_estimators=6000,\n",
        "                       max_depth=4,\n",
        "                       min_child_weight=0,\n",
        "                       gamma=0.6,\n",
        "                       subsample=0.7,\n",
        "                       colsample_bytree=0.7,\n",
        "                       objective='reg:linear',\n",
        "                       nthread=-1,\n",
        "                       scale_pos_weight=1,\n",
        "                       seed=27,\n",
        "                       reg_alpha=0.00006,\n",
        "                       random_state=42)\n",
        "\n",
        "model_xgb.fit(X_train, y_train)\n",
        "predXGB = model_xgb.predict(X_test)"
      ],
      "execution_count": null,
      "outputs": [
        {
          "output_type": "stream",
          "text": [
            "[12:43:03] WARNING: /workspace/src/objective/regression_obj.cu:152: reg:linear is now deprecated in favor of reg:squarederror.\n"
          ],
          "name": "stdout"
        }
      ]
    },
    {
      "cell_type": "code",
      "metadata": {
        "id": "5ZZyn4VUD2ad",
        "colab": {
          "base_uri": "https://localhost:8080/"
        },
        "outputId": "aea91f7f-7001-490f-bd14-abc19c16b8d9"
      },
      "source": [
        "modelc_xgb = xgb.XGBRegressor(learning_rate= 2**-3,\n",
        "                       n_estimators=6000,\n",
        "                       max_depth=4,\n",
        "                       min_child_weight=0,\n",
        "                       gamma=0.6,\n",
        "                       subsample=0.7,\n",
        "                       colsample_bytree=0.7,\n",
        "                       objective='reg:linear',\n",
        "                       nthread=-1,\n",
        "                       scale_pos_weight=1,\n",
        "                       seed=27,\n",
        "                       reg_alpha=0.00006,\n",
        "                       random_state=42)\n",
        "\n",
        "modelc_xgb.fit(OH_X_train, y_train_c)\n",
        "predXGB2 = modelc_xgb.predict(OH_X_test)"
      ],
      "execution_count": null,
      "outputs": [
        {
          "output_type": "stream",
          "text": [
            "[12:43:06] WARNING: /workspace/src/objective/regression_obj.cu:152: reg:linear is now deprecated in favor of reg:squarederror.\n"
          ],
          "name": "stdout"
        }
      ]
    },
    {
      "cell_type": "code",
      "metadata": {
        "id": "7oHUYvKfqO_k",
        "colab": {
          "base_uri": "https://localhost:8080/",
          "height": 319
        },
        "outputId": "64be39dd-e1f7-4e6f-e674-a068ed55147d"
      },
      "source": [
        "#esse é o resultado usando 3 parametros para determinar as emissoes de co2, pode-se ver o quao ajustados os dados previstos(em laranja) e os de teste(azul)\n",
        "t = np.linspace(0,25,len(y_test))\n",
        "\n",
        "plt.title('CO2 EMISSIONS')\n",
        "plt.xlabel('predicted')\n",
        "plt.ylabel('test data')\n",
        "#plt.scatter(t,Y_pred, lw = 3, color = 'orange',label = 'MultiLinear')\n",
        "#plt.plot(t,predSVR,'r-', lw = 1,label = 'SVR-e')\n",
        "plt.scatter(predNN ,y_test, facecolor='None', edgecolor='red', alpha=0.3)\n",
        "#plt.legend(shadow=True, fancybox=True, )"
      ],
      "execution_count": null,
      "outputs": [
        {
          "output_type": "execute_result",
          "data": {
            "text/plain": [
              "<matplotlib.collections.PathCollection at 0x7f24947127f0>"
            ]
          },
          "metadata": {
            "tags": []
          },
          "execution_count": 32
        },
        {
          "output_type": "display_data",
          "data": {
            "image/png": "[encoded data removed]",
            "text/plain": [
              "<Figure size 432x288 with 1 Axes>"
            ]
          },
          "metadata": {
            "tags": [],
            "needs_background": "light"
          }
        }
      ]
    },
    {
      "cell_type": "code",
      "metadata": {
        "id": "ea8Xj_sbxzS2"
      },
      "source": [
        " preds = [predNN,predENet,predGBM,predSVR,predXGB]\n"
      ],
      "execution_count": null,
      "outputs": []
    },
    {
      "cell_type": "code",
      "metadata": {
        "id": "sWr2p5cxqnQD"
      },
      "source": [
        "# Model Evaluation\n",
        "from sklearn import metrics\n",
        "\n",
        "def MAPE(y_test,Y_pred):\n",
        "  return print('MAPE%',np.mean(np.abs((y_test - Y_pred) / y_test)) * 100)\n",
        "\n",
        "def eval(y_test,Y_pred):\n",
        "  \n",
        "  print('R^2:',metrics.r2_score(y_test, Y_pred))\n",
        "  print('Adjusted R^2:',1 - (1-metrics.r2_score(y_test, Y_pred))*(len(y_test)-1)/(len(y_test)-X_train.shape[1]-1))\n",
        "  print('MAE:', np.sum(np.absolute((y_test - Y_pred)))/len(y_test)) \n",
        "  print('Erro max (ppm)', np.abs((y_test - Y_pred).max()))\n",
        "  print('RMSE:',np.sqrt(metrics.mean_squared_error(y_test, Y_pred)))\n"
      ],
      "execution_count": null,
      "outputs": []
    },
    {
      "cell_type": "markdown",
      "metadata": {
        "id": "N-AZxQE4CGbK"
      },
      "source": [
        "##Evaluation\n",
        "𝑅^2 : It is a measure of the linear relationship between X and Y. It is interpreted as the proportion of the variance in the dependent variable that is predictable from the independent variable.\n",
        "\n",
        "Adjusted 𝑅^2 :The adjusted R-squared compares the explanatory power of regression models that contain different numbers of predictors.\n",
        "\n",
        "MAE : It is the mean of the absolute value of the errors. It measures the difference between two continuous variables, here actual and predicted values of y. \n",
        "\n",
        "MSE: The mean square error (MSE) is just like the MAE, but squares the difference before summing them all instead of using the absolute value. \n",
        "\n",
        "RMSE: The mean square error (MSE) is just like the MAE, but squares the difference before summing them all instead of using the absolute value.\"\"\""
      ]
    },
    {
      "cell_type": "code",
      "metadata": {
        "id": "K-N3XpztbQHm",
        "colab": {
          "base_uri": "https://localhost:8080/"
        },
        "outputId": "80b99d06-717c-41cc-d4fc-6fd7672d09aa"
      },
      "source": [
        "MAPE(y_test,predXGB)\n",
        "eval(y_test,predXGB)\n",
        "print('___')\n",
        "MAPE(y_test,predGBM)\n",
        "eval(y_test, predGBM)\n",
        "print('___')\n",
        "MAPE(y_test_c,predXGB2)\n",
        "eval(y_test, predXGB2)"
      ],
      "execution_count": null,
      "outputs": [
        {
          "output_type": "stream",
          "text": [
            "MAPE% 0.3828291204563428\n",
            "R^2: 0.998408508211296\n",
            "Adjusted R^2: 0.998372915743178\n",
            "MAE: 1.018953008443767\n",
            "Erro max (ppm) 15.6812744140625\n",
            "RMSE: 2.591956762086465\n",
            "___\n",
            "MAPE% 3.048954142140445\n",
            "R^2: 0.9596653956942274\n",
            "Adjusted R^2: 0.9587633438407437\n",
            "MAE: 7.969605826974076\n",
            "Erro max (ppm) 38.029990727021016\n",
            "RMSE: 13.048616032576675\n",
            "___\n",
            "MAPE% 0.5417869892014227\n",
            "R^2: -1.1640746949830985\n",
            "Adjusted R^2: -1.2124725316121134\n",
            "MAE: 76.49832785538052\n",
            "Erro max (ppm) 225.68458557128906\n",
            "RMSE: 95.57882227135381\n"
          ],
          "name": "stdout"
        }
      ]
    },
    {
      "cell_type": "code",
      "metadata": {
        "id": "GLNE43MseLN0",
        "colab": {
          "base_uri": "https://localhost:8080/"
        },
        "outputId": "99c8808d-718a-49fe-82f0-e7d560954975"
      },
      "source": [
        "MAPE(y_test,Y_pred)\n",
        "eval(y_test,Y_pred)"
      ],
      "execution_count": null,
      "outputs": [
        {
          "output_type": "stream",
          "text": [
            "MAPE% 1.3444593107302805e-14\n",
            "R^2: 1.0\n",
            "Adjusted R^2: 1.0\n",
            "MAE: 3.041388532505849e-14\n",
            "Erro max (ppm) 8.526512829121202e-14\n",
            "RMSE: 4.39406146344525e-14\n"
          ],
          "name": "stdout"
        }
      ]
    },
    {
      "cell_type": "code",
      "metadata": {
        "id": "a4rux7D0DAkv",
        "colab": {
          "base_uri": "https://localhost:8080/",
          "height": 358
        },
        "outputId": "00af426f-5942-4978-c9f7-33856cc6e196"
      },
      "source": [
        "# Checking how the error are distribuited\n",
        "sns.distplot(y_test-predXGB)\n",
        "plt.title(\"Histogram of Residuals\")\n",
        "plt.xlabel(\"Residuals\")\n",
        "plt.ylabel(\"Frequency\")\n",
        "plt.show()"
      ],
      "execution_count": null,
      "outputs": [
        {
          "output_type": "stream",
          "text": [
            "/usr/local/lib/python3.6/dist-packages/seaborn/distributions.py:2551: FutureWarning: `distplot` is a deprecated function and will be removed in a future version. Please adapt your code to use either `displot` (a figure-level function with similar flexibility) or `histplot` (an axes-level function for histograms).\n",
            "  warnings.warn(msg, FutureWarning)\n"
          ],
          "name": "stderr"
        },
        {
          "output_type": "display_data",
          "data": {
            "image/png": "[encoded data removed]",
            "text/plain": [
              "<Figure size 432x288 with 1 Axes>"
            ]
          },
          "metadata": {
            "tags": [],
            "needs_background": "light"
          }
        }
      ]
    },
    {
      "cell_type": "code",
      "metadata": {
        "id": "DqKPMUT3rj5F",
        "colab": {
          "base_uri": "https://localhost:8080/"
        },
        "outputId": "5d82869c-a79e-43a5-ae46-6e5352aa9419"
      },
      "source": [
        "predNN1 = [ i[0] for i in predNN]\n",
        "MAPE(y_test,predNN1)\n",
        "eval(y_test,predNN1)\n",
        "print('____')\n",
        "MAPE(y_test,predXGB)\n",
        "eval(y_test,predXGB)"
      ],
      "execution_count": null,
      "outputs": [
        {
          "output_type": "stream",
          "text": [
            "MAPE% 2.2043525573442246\n",
            "R^2: 0.9903750221916927\n",
            "Adjusted R^2: 0.9901597670969382\n",
            "MAE: 4.931614623262875\n",
            "Erro max (ppm) 16.452392578125\n",
            "RMSE: 6.3741960940514595\n",
            "____\n",
            "MAPE% 0.3828291204563428\n",
            "R^2: 0.998408508211296\n",
            "Adjusted R^2: 0.998372915743178\n",
            "MAE: 1.018953008443767\n",
            "Erro max (ppm) 15.6812744140625\n",
            "RMSE: 2.591956762086465\n"
          ],
          "name": "stdout"
        }
      ]
    },
    {
      "cell_type": "code",
      "metadata": {
        "id": "BqWxJ2_vEoxo",
        "colab": {
          "base_uri": "https://localhost:8080/",
          "height": 246
        },
        "outputId": "ccc59eb5-265a-4218-bca7-3c9df8517fee"
      },
      "source": [
        "from sklearn import model_selection\n",
        "models = [('LogReg', LogisticRegression()), \n",
        "          ('SVM', SVC()), \n",
        "          ('DecTree', DecisionTreeClassifier()),\n",
        "          ('KNN', KNeighborsClassifier()),\n",
        "          ('LinDisc', LinearDiscriminantAnalysis()),\n",
        "          ('GaussianNB', GaussianNB())]"
      ],
      "execution_count": null,
      "outputs": [
        {
          "output_type": "error",
          "ename": "NameError",
          "evalue": "ignored",
          "traceback": [
            "\u001b[0;31m---------------------------------------------------------------------------\u001b[0m",
            "\u001b[0;31mNameError\u001b[0m                                 Traceback (most recent call last)",
            "\u001b[0;32m<ipython-input-39-11c7acd302b2>\u001b[0m in \u001b[0;36m<module>\u001b[0;34m()\u001b[0m\n\u001b[1;32m      1\u001b[0m \u001b[0;32mfrom\u001b[0m \u001b[0msklearn\u001b[0m \u001b[0;32mimport\u001b[0m \u001b[0mmodel_selection\u001b[0m\u001b[0;34m\u001b[0m\u001b[0;34m\u001b[0m\u001b[0m\n\u001b[0;32m----> 2\u001b[0;31m models = [('LogReg', LogisticRegression()), \n\u001b[0m\u001b[1;32m      3\u001b[0m           \u001b[0;34m(\u001b[0m\u001b[0;34m'SVM'\u001b[0m\u001b[0;34m,\u001b[0m \u001b[0mSVC\u001b[0m\u001b[0;34m(\u001b[0m\u001b[0;34m)\u001b[0m\u001b[0;34m)\u001b[0m\u001b[0;34m,\u001b[0m\u001b[0;34m\u001b[0m\u001b[0;34m\u001b[0m\u001b[0m\n\u001b[1;32m      4\u001b[0m           \u001b[0;34m(\u001b[0m\u001b[0;34m'DecTree'\u001b[0m\u001b[0;34m,\u001b[0m \u001b[0mDecisionTreeClassifier\u001b[0m\u001b[0;34m(\u001b[0m\u001b[0;34m)\u001b[0m\u001b[0;34m)\u001b[0m\u001b[0;34m,\u001b[0m\u001b[0;34m\u001b[0m\u001b[0;34m\u001b[0m\u001b[0m\n\u001b[1;32m      5\u001b[0m           \u001b[0;34m(\u001b[0m\u001b[0;34m'KNN'\u001b[0m\u001b[0;34m,\u001b[0m \u001b[0mKNeighborsClassifier\u001b[0m\u001b[0;34m(\u001b[0m\u001b[0;34m)\u001b[0m\u001b[0;34m)\u001b[0m\u001b[0;34m,\u001b[0m\u001b[0;34m\u001b[0m\u001b[0;34m\u001b[0m\u001b[0m\n",
            "\u001b[0;31mNameError\u001b[0m: name 'LogisticRegression' is not defined"
          ]
        }
      ]
    },
    {
      "cell_type": "code",
      "metadata": {
        "id": "FC6ePbB7jbyP"
      },
      "source": [
        ""
      ],
      "execution_count": null,
      "outputs": []
    }
  ]
}